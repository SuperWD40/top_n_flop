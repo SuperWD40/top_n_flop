{
 "cells": [
  {
   "cell_type": "code",
   "execution_count": 2,
   "metadata": {},
   "outputs": [],
   "source": [
    "from mytoolkit.scraping import yahoo\n",
    "import pandas as pd"
   ]
  },
  {
   "cell_type": "code",
   "execution_count": 3,
   "metadata": {},
   "outputs": [],
   "source": [
    "ticker_list = pd.read_csv('CAC 40/CAC 40 - 2024.csv')['Ticker']"
   ]
  },
  {
   "cell_type": "code",
   "execution_count": 4,
   "metadata": {},
   "outputs": [],
   "source": [
    "history_df = pd.DataFrame()\n",
    "for ticker in ticker_list:\n",
    "    history_df[ticker] = yahoo.ticker(ticker).history('max')['Close']"
   ]
  },
  {
   "cell_type": "code",
   "execution_count": 5,
   "metadata": {},
   "outputs": [],
   "source": [
    "import pandas as pd\n",
    "import matplotlib.pyplot as plt\n",
    "import matplotlib.ticker\n",
    "import ipywidgets as widgets\n",
    "from IPython.display import display\n",
    "\n",
    "class top_n_flop():\n",
    "    def __init__(self, history):\n",
    "        # Assigning input parameters to instance variables\n",
    "        today = pd.Timestamp.today().normalize()\n",
    "        self.today = today\n",
    "        self.history = history\n",
    "        self.range_dict = {\n",
    "            '1D'    : today - pd.Timedelta(days=1),\n",
    "            '1W'    : today - pd.Timedelta(days=7),\n",
    "            '1M'    : today - pd.Timedelta(days=30),\n",
    "            '3M'    : today - pd.Timedelta(days=30 * 3),\n",
    "            '6M'    : today - pd.Timedelta(days=30 * 6),\n",
    "            'YTD'   : pd.Timestamp(year=today.year, month=1, day=1),\n",
    "            '1Y'    : today - pd.Timedelta(days=365),\n",
    "            '2Y'    : today - pd.Timedelta(days=365*2),\n",
    "            '5Y'    : today - pd.Timedelta(days=365*5),\n",
    "            '10Y'   : today - pd.Timedelta(days=365*10),\n",
    "        }\n",
    "    \n",
    "    def plot(self, range, n_stock): \n",
    "        df = self.history.resample('D').ffill()\n",
    "        df = (df.loc[self.today] - df.loc[self.range_dict[range]]) / df.loc[self.range_dict[range]]\n",
    "        df = df.dropna()\n",
    "\n",
    "        df_first = (df.sort_values().tail(n_stock) * 100).round(2)\n",
    "        df_last = (df.sort_values().head(n_stock) * 100).round(2)\n",
    "\n",
    "        fig, (ax1, ax2) = plt.subplots(1, 2, figsize=(10, 5))\n",
    "        df_first.sort_values(ascending=True).plot(kind='barh', color='g', ax=ax2)\n",
    "        df_last.sort_values(ascending=False).plot(kind='barh', color='r', ax=ax1)\n",
    "\n",
    "        # Représenter à droite l'axe y du graphique 2\n",
    "        ax2.yaxis.set_ticks_position('right')\n",
    "\n",
    "        ax1.set_xlim([df_last.min()*1.2, 0])\n",
    "        ax2.set_xlim([0, df_first.max()*1.2])\n",
    "\n",
    "        # Afficher les variations directement sur le graphique\n",
    "        for i, v in enumerate(df_last.sort_values(ascending=False)):\n",
    "            ax1.text(df_last.min()*0.2+v, i, f\"{v:.2f}%\", color='r')\n",
    "        for i, v in enumerate(df_first):\n",
    "            ax2.text(df_first.min()*0.05+v, i, f\"{v:.2f}%\", color='g')\n",
    "\n",
    "        # Afficher l'échelle x uniquement en entier\n",
    "        ax1.xaxis.set_major_locator(matplotlib.ticker.MaxNLocator(integer=True))\n",
    "        ax2.xaxis.set_major_locator(matplotlib.ticker.MaxNLocator(integer=True))\n",
    "\n",
    "        # Insérer un titre\n",
    "        fig.suptitle('Top and flop CAC 40', y=0.95)\n",
    "\n",
    "        # Ajuster l'écart entre les deux graphiques\n",
    "        fig.subplots_adjust(wspace=0.05)\n",
    "\n",
    "        plt.show()\n",
    "        \n",
    "    def show(self):\n",
    "        \"\"\"Displaying interactive controls for selecting frequency and time range\"\"\"\n",
    "        # Creating interactive controls for selecting frequency and time range\n",
    "        controls = widgets.interactive(\n",
    "            self.plot,\n",
    "            range=widgets.Select(options=['1D', '1W', '1M', '3M', '6M', 'YTD', '1Y', '2Y', '5Y', '10Y'], value='1M'),\n",
    "            n_stock=widgets.IntText(value=5, description='N stocks:', disabled=False)\n",
    "        )\n",
    "\n",
    "        # Displaying the interactive controls\n",
    "        display(controls)"
   ]
  },
  {
   "cell_type": "code",
   "execution_count": 6,
   "metadata": {},
   "outputs": [
    {
     "data": {
      "application/vnd.jupyter.widget-view+json": {
       "model_id": "45b26f88498044028d15d6cc595ad2ab",
       "version_major": 2,
       "version_minor": 0
      },
      "text/plain": [
       "interactive(children=(Select(description='range', index=2, options=('1D', '1W', '1M', '3M', '6M', 'YTD', '1Y',…"
      ]
     },
     "metadata": {},
     "output_type": "display_data"
    }
   ],
   "source": [
    "top_n_flop(history_df).show()"
   ]
  },
  {
   "cell_type": "code",
   "execution_count": null,
   "metadata": {},
   "outputs": [],
   "source": []
  }
 ],
 "metadata": {
  "kernelspec": {
   "display_name": "Python 3",
   "language": "python",
   "name": "python3"
  },
  "language_info": {
   "codemirror_mode": {
    "name": "ipython",
    "version": 3
   },
   "file_extension": ".py",
   "mimetype": "text/x-python",
   "name": "python",
   "nbconvert_exporter": "python",
   "pygments_lexer": "ipython3",
   "version": "3.12.1"
  }
 },
 "nbformat": 4,
 "nbformat_minor": 2
}
